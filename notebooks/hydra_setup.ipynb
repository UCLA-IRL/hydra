{
 "cells": [
  {
   "cell_type": "markdown",
   "id": "9ca5c3e6-b400-4746-9714-fa07a60e0f59",
   "metadata": {
    "tags": []
   },
   "source": [
    "## 1. Import the FABlib Library"
   ]
  },
  {
   "cell_type": "markdown",
   "id": "cbd225e3-7c09-45c9-b8d8-c348a8df79a3",
   "metadata": {},
   "source": [
    "#### log\n",
    "replaced create_code_cell function with cell code directly -- 06/17/2024\n",
    "\n",
    "fix the unsort nfd configuration problem -- 06/20/2024\n",
    "\n",
    "set the mut from 1500 to 9000 -- 07/09/2024"
   ]
  },
  {
   "cell_type": "code",
   "execution_count": 1,
   "id": "783308df-4675-46e0-b355-792af20563fe",
   "metadata": {},
   "outputs": [],
   "source": [
    "import json\n",
    "import traceback\n",
    "import datetime \n",
    "#from fabrictestbed_extensions.fablib.fablib import fablib\n",
    "\"\"\"update library package with 1.6.0 version\"\"\" \n",
    "from fabrictestbed_extensions.fablib.fablib import FablibManager as fablib_manager\n",
    "\n",
    "fablib = fablib_manager()"
   ]
  },
  {
   "cell_type": "markdown",
   "id": "1e009218-0d73-453e-abd8-d06137cd7d57",
   "metadata": {},
   "source": [
    "## 2. FABlib configure information"
   ]
  },
  {
   "cell_type": "code",
   "execution_count": 2,
   "id": "be075310-5cad-4a6d-827c-c997da253f1b",
   "metadata": {},
   "outputs": [
    {
     "data": {
      "text/html": [
       "<style type=\"text/css\">\n",
       "#T_209f6 tr:nth-child(even) {\n",
       "  background: #dbf3ff;\n",
       "  color: #231f20;\n",
       "}\n",
       "#T_209f6 tr:nth-child(odd) {\n",
       "  background: #ffffff;\n",
       "  color: #231f20;\n",
       "}\n",
       "#T_209f6 caption {\n",
       "  text-align: center;\n",
       "  font-size: 150%;\n",
       "}\n",
       "#T_209f6_row0_col0, #T_209f6_row0_col1, #T_209f6_row1_col0, #T_209f6_row1_col1, #T_209f6_row2_col0, #T_209f6_row2_col1, #T_209f6_row3_col0, #T_209f6_row3_col1, #T_209f6_row4_col0, #T_209f6_row4_col1, #T_209f6_row5_col0, #T_209f6_row5_col1, #T_209f6_row6_col0, #T_209f6_row6_col1, #T_209f6_row7_col0, #T_209f6_row7_col1, #T_209f6_row8_col0, #T_209f6_row8_col1, #T_209f6_row9_col0, #T_209f6_row9_col1, #T_209f6_row10_col0, #T_209f6_row10_col1, #T_209f6_row11_col0, #T_209f6_row11_col1, #T_209f6_row12_col0, #T_209f6_row12_col1, #T_209f6_row13_col0, #T_209f6_row13_col1, #T_209f6_row14_col0, #T_209f6_row14_col1, #T_209f6_row15_col0, #T_209f6_row15_col1, #T_209f6_row16_col0, #T_209f6_row16_col1 {\n",
       "  text-align: left;\n",
       "  border: 1px #231f20 solid !important;\n",
       "  overwrite: False;\n",
       "}\n",
       "</style>\n",
       "<table id=\"T_209f6\">\n",
       "  <caption>FABlib Config</caption>\n",
       "  <thead>\n",
       "  </thead>\n",
       "  <tbody>\n",
       "    <tr>\n",
       "      <td id=\"T_209f6_row0_col0\" class=\"data row0 col0\" >Credential Manager</td>\n",
       "      <td id=\"T_209f6_row0_col1\" class=\"data row0 col1\" >cm.fabric-testbed.net</td>\n",
       "    </tr>\n",
       "    <tr>\n",
       "      <td id=\"T_209f6_row1_col0\" class=\"data row1 col0\" >Orchestrator</td>\n",
       "      <td id=\"T_209f6_row1_col1\" class=\"data row1 col1\" >orchestrator.fabric-testbed.net</td>\n",
       "    </tr>\n",
       "    <tr>\n",
       "      <td id=\"T_209f6_row2_col0\" class=\"data row2 col0\" >Project ID</td>\n",
       "      <td id=\"T_209f6_row2_col1\" class=\"data row2 col1\" >b3cffedd-ddb4-43ee-b57d-459b768e14ca</td>\n",
       "    </tr>\n",
       "    <tr>\n",
       "      <td id=\"T_209f6_row3_col0\" class=\"data row3 col0\" >Token File</td>\n",
       "      <td id=\"T_209f6_row3_col1\" class=\"data row3 col1\" >/home/fabric/.tokens.json</td>\n",
       "    </tr>\n",
       "    <tr>\n",
       "      <td id=\"T_209f6_row4_col0\" class=\"data row4 col0\" >Bastion Host</td>\n",
       "      <td id=\"T_209f6_row4_col1\" class=\"data row4 col1\" >bastion.fabric-testbed.net</td>\n",
       "    </tr>\n",
       "    <tr>\n",
       "      <td id=\"T_209f6_row5_col0\" class=\"data row5 col0\" >Bastion Username</td>\n",
       "      <td id=\"T_209f6_row5_col1\" class=\"data row5 col1\" >xai_0051546236</td>\n",
       "    </tr>\n",
       "    <tr>\n",
       "      <td id=\"T_209f6_row6_col0\" class=\"data row6 col0\" >Bastion Private Key File</td>\n",
       "      <td id=\"T_209f6_row6_col1\" class=\"data row6 col1\" >/home/fabric/work/fabric_config/fabric_bastion_key</td>\n",
       "    </tr>\n",
       "    <tr>\n",
       "      <td id=\"T_209f6_row7_col0\" class=\"data row7 col0\" >Slice Private Key File</td>\n",
       "      <td id=\"T_209f6_row7_col1\" class=\"data row7 col1\" >/home/fabric/work/fabric_config/slice_key</td>\n",
       "    </tr>\n",
       "    <tr>\n",
       "      <td id=\"T_209f6_row8_col0\" class=\"data row8 col0\" >Slice Public Key File</td>\n",
       "      <td id=\"T_209f6_row8_col1\" class=\"data row8 col1\" >/home/fabric/work/fabric_config/slice_key.pub</td>\n",
       "    </tr>\n",
       "    <tr>\n",
       "      <td id=\"T_209f6_row9_col0\" class=\"data row9 col0\" >Log File</td>\n",
       "      <td id=\"T_209f6_row9_col1\" class=\"data row9 col1\" >/tmp/fablib/fablib.log</td>\n",
       "    </tr>\n",
       "    <tr>\n",
       "      <td id=\"T_209f6_row10_col0\" class=\"data row10 col0\" >Log Level</td>\n",
       "      <td id=\"T_209f6_row10_col1\" class=\"data row10 col1\" >INFO</td>\n",
       "    </tr>\n",
       "    <tr>\n",
       "      <td id=\"T_209f6_row11_col0\" class=\"data row11 col0\" >Sites to avoid</td>\n",
       "      <td id=\"T_209f6_row11_col1\" class=\"data row11 col1\" ></td>\n",
       "    </tr>\n",
       "    <tr>\n",
       "      <td id=\"T_209f6_row12_col0\" class=\"data row12 col0\" >SSH Command Line</td>\n",
       "      <td id=\"T_209f6_row12_col1\" class=\"data row12 col1\" >ssh -i {{ _self_.private_ssh_key_file }} -F /home/fabric/work/fabric_config/ssh_config {{ _self_.username }}@{{ _self_.management_ip }}</td>\n",
       "    </tr>\n",
       "    <tr>\n",
       "      <td id=\"T_209f6_row13_col0\" class=\"data row13 col0\" >Version</td>\n",
       "      <td id=\"T_209f6_row13_col1\" class=\"data row13 col1\" >1.6.2</td>\n",
       "    </tr>\n",
       "    <tr>\n",
       "      <td id=\"T_209f6_row14_col0\" class=\"data row14 col0\" >Data directory</td>\n",
       "      <td id=\"T_209f6_row14_col1\" class=\"data row14 col1\" >/tmp/fablib</td>\n",
       "    </tr>\n",
       "    <tr>\n",
       "      <td id=\"T_209f6_row15_col0\" class=\"data row15 col0\" >Core API</td>\n",
       "      <td id=\"T_209f6_row15_col1\" class=\"data row15 col1\" >uis.fabric-testbed.net</td>\n",
       "    </tr>\n",
       "    <tr>\n",
       "      <td id=\"T_209f6_row16_col0\" class=\"data row16 col0\" >Bastion SSH Config File</td>\n",
       "      <td id=\"T_209f6_row16_col1\" class=\"data row16 col1\" >/home/fabric/work/fabric_config/ssh_config</td>\n",
       "    </tr>\n",
       "  </tbody>\n",
       "</table>\n"
      ],
      "text/plain": [
       "<pandas.io.formats.style.Styler at 0x7e7388808a50>"
      ]
     },
     "metadata": {},
     "output_type": "display_data"
    }
   ],
   "source": [
    "fablib.show_config();"
   ]
  },
  {
   "cell_type": "markdown",
   "id": "28d5f885-866e-4aca-bd12-204db8275306",
   "metadata": {},
   "source": [
    "## 3. Query for Available Testbed Resources and Settings\n",
    "This optional command queries the FABRIC services to find the available resources. It may be useful for finding a site with available capacity."
   ]
  },
  {
   "cell_type": "code",
   "execution_count": null,
   "id": "30eec330-b519-4bd6-bb00-d09323ddfc94",
   "metadata": {},
   "outputs": [],
   "source": [
    "try:\n",
    "    print(f\"{fablib.list_sites()}\")\n",
    "except Exception as e:\n",
    "    print(f\"Exception: {e}\")"
   ]
  },
  {
   "cell_type": "markdown",
   "id": "ce146512-eab8-477f-895c-22fea94633b9",
   "metadata": {},
   "source": [
    "## 4. Create the Experiment Slice\n",
    "- Site and node information \n",
    "    - Slice_name: hydra_test_1\n",
    "    - Sites: UTAH, DALL\n",
    "    - Number of nodes: 6\n",
    "    - Image: ubuntu_20\n",
    "    - Cores: 4\n",
    "    - Ram: 8 gb\n",
    "    - Disk: 20 gb\n",
    "    - Net: NIC_basic"
   ]
  },
  {
   "cell_type": "code",
   "execution_count": null,
   "id": "3c08a756-6800-40c5-910b-b719887269c1",
   "metadata": {},
   "outputs": [],
   "source": [
    "slice_name = 'hydra_sites'\n",
    "site1 = 'CLEM'\n",
    "site2 = 'WASH'\n",
    "node1_name = 'Node1'\n",
    "node2_name = 'Node2'\n",
    "node3_name = 'Node3'\n",
    "node4_name = 'Node4'\n",
    "node5_name = 'Node5'\n",
    "node6_name = 'Node6' #noc\n",
    "\n",
    "network_name=['net1','net2','net3','net4','net5','net6','net7','net8','net9','net10', 'net11', 'net12'] #nodes 2-5 fully connected with node 1 acting as a client\n",
    "node1_nic_name = ['nic1_2','nic1_3', 'nic1_4', 'nic1_5', 'nic1_6']\n",
    "node2_nic_name = ['nic2_1','nic2_3', 'nic2_4', 'nic2_5', 'nic2_6']\n",
    "node3_nic_name = ['nic3_1','nic3_2', 'nic3_4', 'nic3_5', 'nic3_6']\n",
    "node4_nic_name = ['nic4_1','nic4_2', 'nic4_3', 'nic4_5', 'nic4_6']\n",
    "node5_nic_name = ['nic5_1','nic5_2', 'nic5_3', 'nic5_4', 'nic5_6']\n",
    "node6_nic_name = ['nic6_1','nic6_2', 'nic6_3', 'nic6_4', 'nic6_5']\n",
    "\n",
    "image = 'default_ubuntu_20'\n",
    "cores = 4\n",
    "ram = 8\n",
    "disk = 20"
   ]
  },
  {
   "cell_type": "code",
   "execution_count": null,
   "id": "e817b64f-d4bf-4926-b4b2-fa0b61e2ce8f",
   "metadata": {},
   "outputs": [],
   "source": [
    "try:\n",
    "    #Create Slice\n",
    "    slice = fablib.new_slice(name=slice_name)\n",
    "\n",
    "    node1 = slice.add_node(name=node1_name, site=site1)\n",
    "    node1.set_capacities(cores=cores, ram=ram, disk=disk)\n",
    "    node1.set_image(image)\n",
    "    iface1_2 = node1.add_component(model='NIC_Basic', name=node1_nic_name[0]).get_interfaces()[0]\n",
    "    iface1_6 = node1.add_component(model='NIC_Basic', name=node1_nic_name[4]).get_interfaces()[0]\n",
    "    #iface1_2 = node1.add_component(model='NIC_Basic', name=node1_nic_name[1]).get_interfaces()[0]\n",
    "    #iface1_3 = node1.add_component(model='NIC_Basic', name=node1_nic_name[2]).get_interfaces()[0]\n",
    "    #iface1_4 = node1.add_component(model='NIC_Basic', name=node1_nic_name[3]).get_interfaces()[0]\n",
    "    \n",
    "    # Node2\n",
    "    node2 = slice.add_node(name=node2_name, site=site1)\n",
    "    node2.set_capacities(cores=cores, ram=ram, disk=disk)\n",
    "    node2.set_image(image)\n",
    "    iface2_1 = node2.add_component(model='NIC_Basic', name=node2_nic_name[0]).get_interfaces()[0] #connect to the client\n",
    "    iface2_3 = node2.add_component(model='NIC_Basic', name=node2_nic_name[1]).get_interfaces()[0]\n",
    "    iface2_4 = node2.add_component(model='NIC_Basic', name=node2_nic_name[2]).get_interfaces()[0]\n",
    "    iface2_5 = node2.add_component(model='NIC_Basic', name=node2_nic_name[3]).get_interfaces()[0]\n",
    "    iface2_6 = node2.add_component(model='NIC_Basic', name=node2_nic_name[4]).get_interfaces()[0]\n",
    "    \n",
    "    \n",
    "    # Node3\n",
    "    node3 = slice.add_node(name=node3_name, site=site1)\n",
    "    node3.set_capacities(cores=cores, ram=ram, disk=disk)\n",
    "    node3.set_image(image)\n",
    "    #iface3_1 = node3.add_component(model='NIC_Basic', name=node3_nic_name[0]).get_interfaces()[0]\n",
    "    iface3_2 = node3.add_component(model='NIC_Basic', name=node3_nic_name[1]).get_interfaces()[0]\n",
    "    iface3_4 = node3.add_component(model='NIC_Basic', name=node3_nic_name[2]).get_interfaces()[0]\n",
    "    iface3_5 = node3.add_component(model='NIC_Basic', name=node3_nic_name[3]).get_interfaces()[0]\n",
    "    iface3_6 = node3.add_component(model='NIC_Basic', name=node3_nic_name[4]).get_interfaces()[0]\n",
    "    \n",
    "    # Node4\n",
    "    node4 = slice.add_node(name=node4_name, site=site2)\n",
    "    node4.set_capacities(cores=cores, ram=ram, disk=disk)\n",
    "    node4.set_image(image)\n",
    "    #iface4_1 = node4.add_component(model='NIC_Basic', name=node4_nic_name[0]).get_interfaces()[0]\n",
    "    iface4_2 = node4.add_component(model='NIC_Basic', name=node4_nic_name[1]).get_interfaces()[0]\n",
    "    iface4_3 = node4.add_component(model='NIC_Basic', name=node4_nic_name[2]).get_interfaces()[0]\n",
    "    iface4_5 = node4.add_component(model='NIC_Basic', name=node4_nic_name[3]).get_interfaces()[0]\n",
    "    iface4_6 = node4.add_component(model='NIC_Basic', name=node4_nic_name[4]).get_interfaces()[0]\n",
    "    \n",
    "    # Node5\n",
    "    node5 = slice.add_node(name=node5_name, site=site2)\n",
    "    node5.set_capacities(cores=cores, ram=ram, disk=disk)\n",
    "    node5.set_image(image)\n",
    "    #iface5_1 = node5.add_component(model='NIC_Basic', name=node5_nic_name[0]).get_interfaces()[0]\n",
    "    iface5_2 = node5.add_component(model='NIC_Basic', name=node5_nic_name[1]).get_interfaces()[0]\n",
    "    iface5_3 = node5.add_component(model='NIC_Basic', name=node5_nic_name[2]).get_interfaces()[0]\n",
    "    iface5_4 = node5.add_component(model='NIC_Basic', name=node5_nic_name[3]).get_interfaces()[0]\n",
    "    iface5_6 = node5.add_component(model='NIC_Basic', name=node5_nic_name[4]).get_interfaces()[0]    \n",
    "    \n",
    "\n",
    "    # Node6\n",
    "    node6 = slice.add_node(name=node6_name, site=site2)\n",
    "    node6.set_capacities(cores=cores, ram=ram, disk=disk)\n",
    "    node6.set_image(image)\n",
    "    iface6_1 = node6.add_component(model='NIC_Basic', name=node6_nic_name[0]).get_interfaces()[0]\n",
    "    iface6_2 = node6.add_component(model='NIC_Basic', name=node6_nic_name[1]).get_interfaces()[0]\n",
    "    iface6_3 = node6.add_component(model='NIC_Basic', name=node6_nic_name[2]).get_interfaces()[0]\n",
    "    iface6_4 = node6.add_component(model='NIC_Basic', name=node6_nic_name[3]).get_interfaces()[0]\n",
    "    iface6_5 = node6.add_component(model='NIC_Basic', name=node6_nic_name[4]).get_interfaces()[0]    \n",
    "        \n",
    "    # Network\n",
    "\n",
    "    # Connection between Node 1 (Client) and Node 2\n",
    "    net1_2 = slice.add_l2network(name=network_name[0], interfaces=[iface1_2, iface2_1])\n",
    "\n",
    "    # Full mesh connections between Nodes 2-5\n",
    "    net2_3 = slice.add_l2network(name=network_name[1], interfaces=[iface2_3, iface3_2])\n",
    "    net2_4 = slice.add_l2network(name=network_name[2], interfaces=[iface2_4, iface4_2])\n",
    "    net2_5 = slice.add_l2network(name=network_name[3], interfaces=[iface2_5, iface5_2])\n",
    "    net3_4 = slice.add_l2network(name=network_name[4], interfaces=[iface3_4, iface4_3])\n",
    "    net3_5 = slice.add_l2network(name=network_name[5], interfaces=[iface3_5, iface5_3])\n",
    "    net4_5 = slice.add_l2network(name=network_name[6], interfaces=[iface4_5, iface5_4])\n",
    "\n",
    "    # Dotted line connections to Node 6 (NOC) from all other nodes\n",
    "    # Note: These might be represented differently based on your specific requirements\n",
    "    # for dotted line connections (e.g., different network types or configurations).\n",
    "    net1_6 = slice.add_l2network(name=network_name[7], interfaces=[iface1_6, iface6_1])\n",
    "    net2_6 = slice.add_l2network(name=network_name[8], interfaces=[iface2_6, iface6_2])\n",
    "    net3_6 = slice.add_l2network(name=network_name[9], interfaces=[iface3_6, iface6_3])\n",
    "    net4_6 = slice.add_l2network(name=network_name[10], interfaces=[iface4_6, iface6_4])\n",
    "    net5_6 = slice.add_l2network(name=network_name[11], interfaces=[iface5_6, iface6_5])\n",
    "\n",
    "    #Submit Slice Request\n",
    "    slice.submit()\n",
    "except Exception as e:\n",
    "    print(f\"Slice Fail: {e}\")"
   ]
  },
  {
   "cell_type": "markdown",
   "id": "83c1a4c9-a143-4707-b95e-3c92078c23ce",
   "metadata": {},
   "source": [
    "## 5. Observe the Slice's Attributes\n",
    "\n",
    "### Show the slice attributes "
   ]
  },
  {
   "cell_type": "code",
   "execution_count": 7,
   "id": "87dae2df-9e36-48d4-9ff6-e8c63c7d1a9d",
   "metadata": {},
   "outputs": [
    {
     "name": "stdout",
     "output_type": "stream",
     "text": [
      "-----------  ------------------------------------\n",
      "Slice Name   hydra_sites\n",
      "Slice ID     69dd1571-7d81-4af7-abac-28460b1e8117\n",
      "Slice State  StableOK\n",
      "Lease End    2024-07-08 19:14:59 +0000\n",
      "-----------  ------------------------------------\n"
     ]
    }
   ],
   "source": [
    "slice_name = 'hydra_sites'\n",
    "try:\n",
    "    slice = fablib.get_slice(name=slice_name)\n",
    "    print(f\"{slice}\")\n",
    "except Exception as e:\n",
    "    print(f\"Exception: {e}\")"
   ]
  },
  {
   "cell_type": "code",
   "execution_count": 9,
   "id": "71cfeb5d-fdd9-49a5-8d9c-2b7b544f3ef7",
   "metadata": {},
   "outputs": [
    {
     "name": "stdout",
     "output_type": "stream",
     "text": [
      "-----------------  --------------------------------------------------------------------------------------------------------------------------------------------\n",
      "ID                 916dd2db-878a-43e6-8cdd-ba7b596adc5b\n",
      "Name               Node5\n",
      "Cores              4\n",
      "RAM                8\n",
      "Disk               100\n",
      "Image              default_ubuntu_20\n",
      "Image Type         qcow2\n",
      "Host               wash-w2.fabric-testbed.net\n",
      "Site               WASH\n",
      "Management IP      2001:400:a100:3020:f816:3eff:fea2:9ef3\n",
      "Reservation State  Active\n",
      "Error Message\n",
      "SSH Command        ssh -i /home/fabric/work/fabric_config/slice_key -F /home/fabric/work/fabric_config/ssh_config ubuntu@2001:400:a100:3020:f816:3eff:fea2:9ef3\n",
      "-----------------  --------------------------------------------------------------------------------------------------------------------------------------------\n",
      "-----------------  --------------------------------------------------------------------------------------------------------------------------------------------\n",
      "ID                 a0aba88b-3163-4fd9-9668-5bdf37d13f08\n",
      "Name               Node6\n",
      "Cores              4\n",
      "RAM                8\n",
      "Disk               100\n",
      "Image              default_ubuntu_20\n",
      "Image Type         qcow2\n",
      "Host               wash-w2.fabric-testbed.net\n",
      "Site               WASH\n",
      "Management IP      2001:400:a100:3020:f816:3eff:fe42:51f2\n",
      "Reservation State  Active\n",
      "Error Message\n",
      "SSH Command        ssh -i /home/fabric/work/fabric_config/slice_key -F /home/fabric/work/fabric_config/ssh_config ubuntu@2001:400:a100:3020:f816:3eff:fe42:51f2\n",
      "-----------------  --------------------------------------------------------------------------------------------------------------------------------------------\n",
      "-----------------  ------------------------------------------------------------------------------------------------------------------------------------------\n",
      "ID                 c4943c36-aa64-46aa-ba88-05d2274e1ee9\n",
      "Name               Node1\n",
      "Cores              4\n",
      "RAM                8\n",
      "Disk               100\n",
      "Image              default_ubuntu_20\n",
      "Image Type         qcow2\n",
      "Host               clem-w3.fabric-testbed.net\n",
      "Site               CLEM\n",
      "Management IP      2620:103:a006:12:f816:3eff:fe24:255b\n",
      "Reservation State  Active\n",
      "Error Message\n",
      "SSH Command        ssh -i /home/fabric/work/fabric_config/slice_key -F /home/fabric/work/fabric_config/ssh_config ubuntu@2620:103:a006:12:f816:3eff:fe24:255b\n",
      "-----------------  ------------------------------------------------------------------------------------------------------------------------------------------\n",
      "-----------------  -----------------------------------------------------------------------------------------------------------------------------------------\n",
      "ID                 25b6d01f-1a47-49ad-9458-969d8511c4db\n",
      "Name               Node2\n",
      "Cores              4\n",
      "RAM                8\n",
      "Disk               100\n",
      "Image              default_ubuntu_20\n",
      "Image Type         qcow2\n",
      "Host               clem-w3.fabric-testbed.net\n",
      "Site               CLEM\n",
      "Management IP      2620:103:a006:12:f816:3eff:fec9:bb8\n",
      "Reservation State  Active\n",
      "Error Message\n",
      "SSH Command        ssh -i /home/fabric/work/fabric_config/slice_key -F /home/fabric/work/fabric_config/ssh_config ubuntu@2620:103:a006:12:f816:3eff:fec9:bb8\n",
      "-----------------  -----------------------------------------------------------------------------------------------------------------------------------------\n",
      "-----------------  ------------------------------------------------------------------------------------------------------------------------------------------\n",
      "ID                 a52d10ec-e730-435e-ad53-f3ca4c02c747\n",
      "Name               Node3\n",
      "Cores              4\n",
      "RAM                8\n",
      "Disk               100\n",
      "Image              default_ubuntu_20\n",
      "Image Type         qcow2\n",
      "Host               clem-w3.fabric-testbed.net\n",
      "Site               CLEM\n",
      "Management IP      2620:103:a006:12:f816:3eff:fe24:71e6\n",
      "Reservation State  Active\n",
      "Error Message\n",
      "SSH Command        ssh -i /home/fabric/work/fabric_config/slice_key -F /home/fabric/work/fabric_config/ssh_config ubuntu@2620:103:a006:12:f816:3eff:fe24:71e6\n",
      "-----------------  ------------------------------------------------------------------------------------------------------------------------------------------\n",
      "-----------------  --------------------------------------------------------------------------------------------------------------------------------------------\n",
      "ID                 5f7e4e74-5439-443f-9538-917e93764675\n",
      "Name               Node4\n",
      "Cores              4\n",
      "RAM                8\n",
      "Disk               100\n",
      "Image              default_ubuntu_20\n",
      "Image Type         qcow2\n",
      "Host               wash-w1.fabric-testbed.net\n",
      "Site               WASH\n",
      "Management IP      2001:400:a100:3020:f816:3eff:fe38:265f\n",
      "Reservation State  Active\n",
      "Error Message\n",
      "SSH Command        ssh -i /home/fabric/work/fabric_config/slice_key -F /home/fabric/work/fabric_config/ssh_config ubuntu@2001:400:a100:3020:f816:3eff:fe38:265f\n",
      "-----------------  --------------------------------------------------------------------------------------------------------------------------------------------\n"
     ]
    }
   ],
   "source": [
    "for node in slice.get_nodes():\n",
    "    print(f\"{node}\") "
   ]
  },
  {
   "cell_type": "code",
   "execution_count": null,
   "id": "d7118190-d412-41d3-bba9-8ea8606f8b0f",
   "metadata": {},
   "outputs": [],
   "source": [
    "try:\n",
    "    slice = fablib.get_slice(name=slice_name)\n",
    "    \n",
    "    interfaces = slice.list_interfaces()\n",
    "\n",
    "except Exception as e:\n",
    "    print(f\"Exception: {e}\")"
   ]
  },
  {
   "cell_type": "code",
   "execution_count": null,
   "id": "b9af2a5c-b430-4187-acc2-81cddf8d4ec6",
   "metadata": {},
   "outputs": [],
   "source": [
    "#for interface in interfaces:\n",
    "#    interface.ip_link_up()\n",
    "print(\"Bringing up interface {}\".format(interfaces))"
   ]
  },
  {
   "cell_type": "markdown",
   "id": "257cede2-5c56-4bc4-84c3-70330650799b",
   "metadata": {},
   "source": [
    "## 6. slice sharing \n",
    "Add collabroator to have access to the slice "
   ]
  },
  {
   "cell_type": "code",
   "execution_count": null,
   "id": "42a66bf4-ece7-4a5b-a3b4-7dd10978bc71",
   "metadata": {},
   "outputs": [],
   "source": [
    "with open(\"slice_key_gabriel.pub\", 'r') as file:\n",
    "    public_key_string = file.read()"
   ]
  },
  {
   "cell_type": "code",
   "execution_count": null,
   "id": "e8076cb6-4510-42ca-8310-ec85fcf93140",
   "metadata": {},
   "outputs": [],
   "source": [
    "print(public_key_string)"
   ]
  },
  {
   "cell_type": "code",
   "execution_count": null,
   "id": "d4be4467-080e-4e2c-a07a-9d17945054d8",
   "metadata": {},
   "outputs": [],
   "source": [
    "for node in slice.get_nodes():\n",
    "    \n",
    "    # Add Public Key to the Node by passing the public key string\n",
    "    \n",
    "    node.add_public_key(sliver_public_key=public_key_string)\n",
    "    \n",
    "    # Add Portal Public Key to the Node by passing the sliver key name\n",
    "    # sliver_key_name = \"sliver_key\"\n",
    "    # node.add_public_key(sliver_key_name=sliver_key_name)\n",
    "    \n",
    "    # Add Collaborator's Portal Public Key to the Node by passing the sliver key name and email\n",
    "    # sliver_key_name = \"sankalpa-silver-key\"\n",
    "    # email = \"sankalpatimilsina12@gmail.com\"\n",
    "    # node.add_public_key(sliver_key_name=sliver_key_name, email=email)\n",
    "    \n",
    "    # Validating SSH connection using the key\n",
    "    # When using the portal keys, this validation would require the respective private key to be saved at\n",
    "    # a location passed in private_key_path\n",
    "    try:\n",
    "        private_key_path = \"../fabric_config/slice_key\"\n",
    "        stdout, stderr = node.execute('echo Hello, FABRIC from node `hostname -s`', \n",
    "                                      private_key_file=private_key_path)\n",
    "    except Exception as e:\n",
    "        print(\"Error:\", str(e))\n",
    "\n",
    "    print()    \n",
    "    "
   ]
  },
  {
   "cell_type": "markdown",
   "id": "02f0215a-8985-4eb8-89c1-2d8c6a60d4ac",
   "metadata": {},
   "source": [
    "## 7. Node environment set up \n",
    "- Install necessary packages for Hydra deployment \n",
    "    - python3-pip\n",
    "    - libndn-cxx-dev\n",
    "    - nfd\n",
    "    - ndnping\n",
    "    - ndnpeek\n",
    "    - ndn-dissect\n",
    "    - ndnchunks\n",
    "    - ndnsec"
   ]
  },
  {
   "cell_type": "code",
   "execution_count": null,
   "id": "a5af3971-7d35-46de-89ec-6f0203197546",
   "metadata": {
    "tags": []
   },
   "outputs": [],
   "source": [
    "%%capture\n",
    "# environment set up\n",
    "# necessary packages\n",
    "try:\n",
    "    for node in slice.get_nodes():\n",
    "        stdout, stderr = node.execute('sudo apt install software-properties-common')\n",
    "        #print(stdout)\n",
    "        stdout, stderr = node.execute('sudo add-apt-repository ppa:named-data/ppa')              \n",
    "        #print(stdout)\n",
    "        stdout, stderr = node.execute('sudo apt update')\n",
    "        #print(stdout)\n",
    "        stdout, stderr = node.execute('sudo apt install nfd')\n",
    "        #print(stdout)\n",
    "        stdout, stderr = node.execute('sudo apt -y install python3-pip libndn-cxx-dev nfd ndnping ndnpeek ndn-dissect ndnchunks ndnsec')\n",
    "        #\n",
    "        stdout, stderr = node.execute('git clone https://github.com/tntech-ngin/ndn-hydra.git')\n",
    "        #\n",
    "        stdout, stderr = node.execute('cd ndn-hydra/ && pip install -e .')\n",
    "        # print(stdout)\n",
    "        stdout, stderr = node.execute('pip3 install python-ndn ndn-storage ndn-svs numpy')\n",
    "        #\n",
    "        stdout, stderr = node.execute('sudo apt install net-tools')\n",
    "        #print(stdout)\n",
    "        stdout, stderr = node.execute('sudo apt update && sudo apt upgrade -y')\n",
    "        #\n",
    "        stdout, stderr = node.execute('sudo cp /etc/ndn/nfd.conf.sample /etc/ndn/nfd.conf')\n",
    "        #\n",
    "        \n",
    "except Exception as e:\n",
    "    print(f\"Exception: {e}\")"
   ]
  },
  {
   "cell_type": "code",
   "execution_count": null,
   "id": "e6f7168a-4fa6-479d-b79a-720bd86b15d3",
   "metadata": {},
   "outputs": [],
   "source": [
    "# sort the table by node index \n",
    "# df = interfaces.data.sort_values(by='Node', ascending=True)\n",
    "df = interfaces.data\n",
    "interfaces_str = df.to_string(index=False,)\n",
    "# Converting text table to csv file\n",
    "\n",
    "lines=interfaces_str.split(\"\\n\")\n",
    "header=lines[0].split()\n",
    "header[1]= header[1]+header[2]\n",
    "header[9]=header[9]+header[10]\n",
    "header_sanitize=header[0:2]+header[3:7]+header[8:11]+header[12:13]\n",
    "print(header_sanitize)\n",
    "\n",
    "\n",
    "import csv\n",
    "\n",
    "with open('mac.csv', 'w', newline='') as file:\n",
    "    writer = csv.writer(file)\n",
    "    #header = lines[0].split()\n",
    "    \n",
    "    writer.writerow(header_sanitize)\n",
    "    for i in range (1,len(lines)):\n",
    "        rows=lines[i].split()\n",
    "        writer.writerow(rows)"
   ]
  },
  {
   "cell_type": "code",
   "execution_count": null,
   "id": "83c1ce30-5e3b-419c-ba19-63c680ae4479",
   "metadata": {
    "tags": []
   },
   "outputs": [],
   "source": [
    "import csv\n",
    "import sys\n",
    "\n",
    "def generate_combinations_dict(n, result_dict):\n",
    "    combinations_dict = {}\n",
    "    for i in range(1,n+1):\n",
    "        combinations = []\n",
    "        for j in range(1,n+1):\n",
    "            if i != j:\n",
    "                local_nic = f\"{i}_{j}\"\n",
    "                remote_nic = f\"{j}_{i}\"\n",
    "                if local_nic in result_dict and remote_nic in result_dict:\n",
    "                    combinations.append([local_nic, remote_nic])\n",
    "        combinations_dict[i] = combinations\n",
    "    return combinations_dict\n",
    "\n",
    "\n",
    "# Initialize an empty dictionary to store the results\n",
    "result_dict = {}\n",
    "\n",
    "# Specify the path to your CSV file\n",
    "csv_file_path = 'mac.csv'  # Replace with the actual file path\n",
    "\n",
    "# Open and read the CSV file\n",
    "with open(csv_file_path, mode='r') as csv_file:\n",
    "    csv_reader = csv.reader(csv_file)\n",
    "    header = next(csv_reader)  # Read the header row and skip it\n",
    "\n",
    "    # Loop through the CSV rows and extract the information\n",
    "    for row in csv_reader:\n",
    "        print(row)\n",
    "        name = row[0]  # Extract the device name (e.g., Node1-nic1_2-p1)\n",
    "        device = row[8]  # Extract the device name (e.g., enp7s0)\n",
    "        mac = row[6]  # Extract the MAC address (e.g., 32:92:86:1B:3C:8E)\n",
    "\n",
    "        # Split the device name to get the \"nicX_Y\" part\n",
    "        parts = name.split('-')\n",
    "        if len(parts) == 3:\n",
    "            key = parts[1].replace(\"nic\",\"\")  # Extract the \"nicX_Y\" part as the key\n",
    "            first_key, second_key = key.split(\"_\")\n",
    "            first_key = int(first_key)\n",
    "            second_key = int(second_key)\n",
    "            print(first_key, second_key)\n",
    "            new_key = str(first_key)+\"_\"+str(second_key)\n",
    "\n",
    "            result_dict[new_key] = {\"PhysicalDevice\": device, \"MACAddress\": mac}\n",
    "\n",
    "print(\"Results:\",result_dict)\n",
    "#sys.exit(1)\n",
    "# Initialize a dictionary to store complementary pairs\n",
    "\n",
    "num_nodes = 6\n",
    "NIC_UP=[]\n",
    "NFD_UP=[]\n",
    "combinations_dict = generate_combinations_dict(num_nodes, result_dict)\n",
    "print(\"combinations: \", combinations_dict)"
   ]
  },
  {
   "cell_type": "markdown",
   "id": "8bf158c2-483d-4efc-96e8-ab113f469453",
   "metadata": {},
   "source": [
    "## SET NIC UP"
   ]
  },
  {
   "cell_type": "markdown",
   "id": "81a7768a-1c5a-4e2d-9b99-bc84c40e876b",
   "metadata": {},
   "source": [
    "#### Set up node NIC "
   ]
  },
  {
   "cell_type": "code",
   "execution_count": null,
   "id": "d6d6f5a2-656c-4a1f-bced-e51b1786d3f5",
   "metadata": {},
   "outputs": [],
   "source": [
    "i=0\n",
    "temp = list(result_dict.items())[0][0].split(\"_\")[0]\n",
    "nodes_order =[int(temp)]\n",
    "for key, value in (result_dict.items()):\n",
    "    node_index = key.split(\"_\")[0]\n",
    "    if int(temp) != int(node_index):\n",
    "        temp = node_index\n",
    "        i+=1\n",
    "        nodes_order.append(int(node_index))\n",
    "    print(\"processing node {}\".format(node_index))\n",
    "    device_name = value[\"PhysicalDevice\"]\n",
    "    print(device_name)\n",
    "    stdout, stderr = slice.get_nodes()[i].execute('sudo ip link set dev {} up'.format(device_name))\n",
    "    stdout, stderr = slice.get_nodes()[i].execute('sleep 2')\n",
    "    stdout, stderr = slice.get_nodes()[i].execute('sudo ip link set dev {} mtu 9000'.format(device_name))\n",
    "    stdout, stderr = slice.get_nodes()[i].execute('ip a')\n"
   ]
  },
  {
   "cell_type": "markdown",
   "id": "4043eb7d-1de6-4ab5-a348-b4304c835a91",
   "metadata": {},
   "source": [
    "## Processing Node NFD create face and route "
   ]
  },
  {
   "cell_type": "code",
   "execution_count": null,
   "id": "f585948d-8d40-4ff1-b416-72949c9b65d1",
   "metadata": {},
   "outputs": [],
   "source": [
    "print(\"Set NFD UP\")\n",
    "for index, node in enumerate(nodes_order):\n",
    "    try:\n",
    "        print(\"*****************************************************************\")\n",
    "        print(\"Processing Node {}\".format(node))\n",
    "        stdout, stderr = slice.get_nodes()[index].execute('nfd-start')\n",
    "        stdout, stderr = slice.get_nodes()[index].execute('sleep 2; nfd-status')\n",
    "        stdout, stderr = slice.get_nodes()[index].execute('ndnsec key-gen /hydra/node{} | ndnsec cert-install -'.format(node))\n",
    "    except Exception as e:\n",
    "        print(f\"Exception: {{e}}\")\n",
    "    \n",
    "    for item in combinations_dict[node]:\n",
    "            local_nic, remote_nic = item\n",
    "            local_node_index, remote_node_index = local_nic.split(\"_\")\n",
    "            local_nic_name = \"dev://\" + result_dict[item[0]]['PhysicalDevice']\n",
    "            local_mac_address = \"ether://[\"+result_dict[item[0]]['MACAddress']+\"]\"\n",
    "            remote_nic_name = \"dev://\" + result_dict[item[1]]['PhysicalDevice']\n",
    "            remote_mac_address = \"ether://[\"+result_dict[item[1]]['MACAddress']+\"]\"\n",
    "            if int(remote_node_index) == 1: # this is for the client \n",
    "                try:\n",
    "                    print(\"Generating NIC pair commands {}. Remote Node is {}\".format(item,int(remote_node_index)))\n",
    "                    print(\"local_nic: {}, local_mac_address: {}, local_iface_name: {}\".format(local_nic,local_mac_address,local_nic_name))\n",
    "                    print(\"remote_nic: {}, remote_mac_address: {}, remote_iface_name: {}\".format(remote_nic,remote_mac_address,remote_nic_name))\n",
    "                    print(\"Adding client (node 1) to node{}\".format(int(local_node_index)))\n",
    "                    stdout, stderr = slice.get_nodes()[index].execute('nfdc strategy set /hydra/group /localhost/nfd/strategy/multicast')\n",
    "                    stdout, stderr = slice.get_nodes()[index].execute('nfdc face create remote {} local {}'.format(remote_mac_address,local_nic_name))\n",
    "                    stdout, stderr = slice.get_nodes()[index].execute('nfdc route add /client {}'.format(remote_mac_address))\n",
    "                except Exception as e:\n",
    "                    print(f\"Exception: {{e}}\")\n",
    "\n",
    "            else:\n",
    "                try:\n",
    "                    print(\"Generating NIC pair commands {}. Remote Node is {}\".format(item, int(remote_node_index)))\n",
    "                    print(\"local_nic: {}, local_mac_address: {}, local_iface_name: {}\".format(local_nic,local_mac_address, local_nic_name))\n",
    "                    print(\"remote_nic: {}, remote_mac_address: {}, remote_iface_name: {}\".format(remote_nic, remote_mac_address, remote_nic_name))\n",
    "                    print(\"Adding routes to node{}\".format(int(remote_node_index)))\n",
    "                    stdout, stderr = slice.get_nodes()[index].execute('nfdc face create remote {} local {}'.format(remote_mac_address, local_nic_name))\n",
    "                    stdout, stderr = slice.get_nodes()[index].execute('nfdc route add /hydra/group {}'.format(remote_mac_address))\n",
    "                    stdout, stderr = slice.get_nodes()[index].execute('nfdc route add /hydra/node/node{} {}'.format(int(remote_node_index), remote_mac_address))\n",
    "                    stdout, stderr = slice.get_nodes()[index].execute('nfdc route add /node{} {}'.format(int(remote_node_index), remote_mac_address))\n",
    "                except Exception as e:\n",
    "                    print(f\"Exception: {{e}}\")\n",
    "            if int(remote_node_index) == 2 and int(local_node_index) != 1:\n",
    "                try:\n",
    "                    stdout, stderr = slice.get_nodes()[index].execute('nfdc route add /client {}'.format(remote_mac_address))\n",
    "                except Exception as e:\n",
    "                    print(f\"Exception: {{e}}\")\n",
    "\n",
    "    if node == 1:\n",
    "        try:\n",
    "            print(\"Adding Gateway (node 2) to Client (node 1)- STATICALLY SET-FIXME\")\n",
    "            stdout, stderr = slice.get_nodes()[index].execute('nfdc route add / {}'.format(\"ether://[\"+result_dict['2_1']['MACAddress']+\"]\"))\n",
    "        except Exception as e:\n",
    "            print(f\"Exception: {{e}}\")\n"
   ]
  },
  {
   "cell_type": "markdown",
   "id": "aa24892a-993d-417c-8056-16b24070c764",
   "metadata": {},
   "source": [
    "### Upload the file from testbed to node"
   ]
  },
  {
   "cell_type": "code",
   "execution_count": null,
   "id": "58b10824-7ae3-4da5-85d7-26b86c941021",
   "metadata": {},
   "outputs": [],
   "source": [
    "node = slice.get_node(name=\"Node1\")        \n",
    "\n",
    "# Using the upload_file method, you can upload a local file\n",
    "# from a path relative to the notebook. config_script.sh is\n",
    "# located in the same directory as this notebook!\n",
    "result = node.upload_file('chainHprcGCA_018466855v1Link.txt.gz','chainHprcGCA_018466855v1Link.txt.gz')"
   ]
  },
  {
   "cell_type": "markdown",
   "id": "4374952c-612d-45da-85e8-c75b312184eb",
   "metadata": {},
   "source": [
    "### Download the file from testbed to node"
   ]
  },
  {
   "cell_type": "code",
   "execution_count": null,
   "id": "d2e958e7-8281-458a-92a2-2fb8a02fdd52",
   "metadata": {},
   "outputs": [],
   "source": [
    "node = slice.get_node(name=\"Node1\")        \n",
    "\n",
    "# Using the upload_file method, you can upload a local file\n",
    "# from a path relative to the notebook. config_script.sh is\n",
    "# located in the same directory as this notebook!\n",
    "node.download_file('nfd_status_client.log','nfd_status_client.log')"
   ]
  },
  {
   "cell_type": "markdown",
   "id": "7e734c0a-f50f-4f8c-96c6-4a7d8fd73a04",
   "metadata": {
    "tags": []
   },
   "source": [
    "## Get and Renew the Slice\n",
    "\n",
    "You slice is in the list of all your slices. You can loop through the list of slices to get the slice. Python has a standard tool to filter lists. Try using a lambda function to filter out your slice using its name.\n",
    "\n",
    "The new end date is in UTC."
   ]
  },
  {
   "cell_type": "code",
   "execution_count": 4,
   "id": "6840eb8e-bcf9-47cd-b8ac-0a38d7b53e9d",
   "metadata": {
    "tags": []
   },
   "outputs": [],
   "source": [
    "from datetime import datetime\n",
    "from datetime import timezone\n",
    "from datetime import timedelta\n",
    "\n",
    "#Set end host to now plus 1 day\n",
    "end_date = (datetime.now(timezone.utc) + timedelta(days=14)).strftime(\"%Y-%m-%d %H:%M:%S %z\")\n",
    "\n",
    "try:\n",
    "    slice = fablib.get_slice(name=slice_name)\n",
    "\n",
    "    slice.renew(end_date)\n",
    "except Exception as e:\n",
    "    print(f\"Exception: {e}\")"
   ]
  },
  {
   "cell_type": "markdown",
   "id": "16e434a9-3b2c-439c-ac64-80301cad0931",
   "metadata": {},
   "source": [
    "## Check New Lease End Date"
   ]
  },
  {
   "cell_type": "code",
   "execution_count": 5,
   "id": "24e1cf1c-2cd4-433f-9dc0-5364f0f72149",
   "metadata": {
    "tags": []
   },
   "outputs": [
    {
     "name": "stdout",
     "output_type": "stream",
     "text": [
      "Lease End (UTC)        : 2024-07-08 19:14:59 +0000\n"
     ]
    }
   ],
   "source": [
    "try:\n",
    "    slice = fablib.get_slice(name=slice_name)\n",
    "    print(f\"Lease End (UTC)        : {slice.get_lease_end()}\")\n",
    "       \n",
    "except Exception as e:\n",
    "    print(f\"Exception: {e}\")"
   ]
  },
  {
   "cell_type": "markdown",
   "id": "20bd6cdf-8228-4bce-b9d0-8e1bbef1765f",
   "metadata": {},
   "source": [
    "## Delete slice"
   ]
  },
  {
   "cell_type": "code",
   "execution_count": null,
   "id": "244803ad-bb96-4bdf-9347-53d8ec73bf2f",
   "metadata": {},
   "outputs": [],
   "source": [
    "# fablib.delete_slice(slice_name)"
   ]
  },
  {
   "cell_type": "code",
   "execution_count": null,
   "id": "aa722132-d9f9-4486-8faf-7b7cebfe13fd",
   "metadata": {},
   "outputs": [],
   "source": []
  }
 ],
 "metadata": {
  "kernelspec": {
   "display_name": "Python 3 (ipykernel)",
   "language": "python",
   "name": "python3"
  },
  "language_info": {
   "codemirror_mode": {
    "name": "ipython",
    "version": 3
   },
   "file_extension": ".py",
   "mimetype": "text/x-python",
   "name": "python",
   "nbconvert_exporter": "python",
   "pygments_lexer": "ipython3",
   "version": "3.11.8"
  }
 },
 "nbformat": 4,
 "nbformat_minor": 5
}
